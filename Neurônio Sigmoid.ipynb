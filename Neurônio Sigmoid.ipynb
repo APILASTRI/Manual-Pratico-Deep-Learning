{
 "cells": [
  {
   "cell_type": "markdown",
   "metadata": {},
   "source": []
  },
  {
   "cell_type": "markdown",
   "metadata": {},
   "source": [
    "# Sumário"
   ]
  },
  {
   "cell_type": "markdown",
   "metadata": {},
   "source": [
    "[Introdução](#Introdução)\n",
    "\n",
    "[Função de Custo](#Função-de-Custo)\n",
    "\n",
    "[Regressão Logística](#Regressão-Log%C3%ADstica)\n",
    "- [Numpy](#Numpy)\n",
    "- [Keras](#Keras)\n",
    "- [Tensorflow](#Tensorflow)\n",
    "\n",
    "[Referências](#Referências)"
   ]
  },
  {
   "cell_type": "markdown",
   "metadata": {},
   "source": [
    "# Imports e Configurações"
   ]
  },
  {
   "cell_type": "code",
   "execution_count": 1,
   "metadata": {
    "collapsed": true
   },
   "outputs": [],
   "source": [
    "import numpy as np\n",
    "import pandas as pd\n",
    "import matplotlib.pyplot as plt\n",
    "from sklearn.linear_model import LogisticRegression\n",
    "from sklearn.preprocessing import MinMaxScaler\n",
    "from sklearn.metrics import accuracy_score\n",
    "\n",
    "%matplotlib inline"
   ]
  },
  {
   "cell_type": "markdown",
   "metadata": {},
   "source": [
    "# Introdução"
   ]
  },
  {
   "cell_type": "markdown",
   "metadata": {},
   "source": [
    "A __Regressão Logística__ é um tipo de regressão linear utilizado para classificação binária. Nesse caso, ao invés de prever um valor contínuo, a nossa saída é composta de apenas dois valores: 0 ou 1.\n",
    "\n",
    "$$y_{pred} = \\frac{1}{1+e^{-z}}$$\n",
    "\n",
    "Onde $z(w,b) = xw^T + b$"
   ]
  },
  {
   "cell_type": "markdown",
   "metadata": {},
   "source": [
    "# Função de Custo"
   ]
  },
  {
   "cell_type": "markdown",
   "metadata": {},
   "source": [
    "A função de custo da regressão logística é definida pela seguinte fórmula:\n",
    "\n",
    "$$J(z) = -\\frac{1}{N}\\sum_{i}^N y_i\\log(y_{pred_i}) + (1-y_i)\\log(1-y_{pred_i})$$\n",
    "\n",
    "Onde $N$ é quantidade de amostras e $y_i$ representa o valor da $i$-ésima amostra (0 ou 1). Lembrando que $y_{pred_i}$ é agora calculada agora utilizando a função ___sigmoid___, como mostrado na seção anterior.\n",
    "\n",
    "Para calcular a derivada da nossa função de custo $J(w,b)$, primeiramente vamos calcular $\\log(y_{pred_i})$:\n",
    "\n",
    "$$\\log(y_{pred_i}) = log\\frac{1}{1+e^{-z}} = log(1) - log(1+e^{-z}) = -log(1+e^{-z})$$\n",
    "\n",
    "E $\\log(1-y_{pred_i})$:\n",
    "\n",
    "$$\\log(1-y_{pred_i}) = log \\left(1-\\frac{1}{1+e^{-z}}\\right) = log(e^{-z}) - log(1+e^{-z}) = -z -log(1+e^{-z})$$\n",
    "\n",
    "Substituindo as duas equações anteriores na fórmula da função de custo, temos:\n",
    "\n",
    "$$J(z) = -\\frac{1}{N}\\sum_{i}^N \\left[-y_i\\log(1+e^{-z}) + (1-y_i)(-z -\\log(1+e^{-z}))\\right]$$\n",
    "\n",
    "Efetuando as distribuições, podemos simplificar a equação acima para:\n",
    "\n",
    "$$J(z) = -\\frac{1}{N}\\sum_{i}^N \\left[y_iz -z -\\log(1+e^{-z})\\right]$$\n",
    "\n",
    "Uma vez que:\n",
    "\n",
    "$$-z -\\log(1+e^{-z}) = -\\left[\\log e^{z} + log(1+e^{-z})\\right] = -log(1+e^z)$$\n",
    "\n",
    "Temos:\n",
    "\n",
    "$$J(z) = -\\frac{1}{N}\\sum_{i}^N \\left[y_iz -\\log(1+e^z)\\right]$$\n",
    "\n",
    "Como a derivada da diferença é igual a diferença das derivadas, podemos calcular cada derivada individualmente:\n",
    "\n",
    "$$\\frac{\\partial}{\\partial z}y_iz = y_ix_i$$\n",
    "\n",
    "$$\\frac{\\partial}{\\partial z}\\log(1+e^z) = \\frac{x_ie^z}{1+e^z} = x_i y_{pred_i}$$\n",
    "\n",
    "Assim, a derivada da nossa função de custo $J(z)$ é:\n",
    "\n",
    "$$\\frac{\\partial}{\\partial z}J(z) = \\sum_i^N (y_i - y_{pred_i})x_i$$"
   ]
  },
  {
   "cell_type": "markdown",
   "metadata": {},
   "source": [
    "# Regressão Logística"
   ]
  },
  {
   "cell_type": "code",
   "execution_count": 2,
   "metadata": {},
   "outputs": [
    {
     "name": "stdout",
     "output_type": "stream",
     "text": [
      "(400, 3)\n"
     ]
    },
    {
     "data": {
      "text/html": [
       "<div>\n",
       "<style>\n",
       "    .dataframe thead tr:only-child th {\n",
       "        text-align: right;\n",
       "    }\n",
       "\n",
       "    .dataframe thead th {\n",
       "        text-align: left;\n",
       "    }\n",
       "\n",
       "    .dataframe tbody tr th {\n",
       "        vertical-align: top;\n",
       "    }\n",
       "</style>\n",
       "<table border=\"1\" class=\"dataframe\">\n",
       "  <thead>\n",
       "    <tr style=\"text-align: right;\">\n",
       "      <th></th>\n",
       "      <th>idade</th>\n",
       "      <th>salario</th>\n",
       "      <th>comprou</th>\n",
       "    </tr>\n",
       "  </thead>\n",
       "  <tbody>\n",
       "    <tr>\n",
       "      <th>0</th>\n",
       "      <td>19</td>\n",
       "      <td>19000</td>\n",
       "      <td>0</td>\n",
       "    </tr>\n",
       "    <tr>\n",
       "      <th>1</th>\n",
       "      <td>35</td>\n",
       "      <td>20000</td>\n",
       "      <td>0</td>\n",
       "    </tr>\n",
       "    <tr>\n",
       "      <th>2</th>\n",
       "      <td>26</td>\n",
       "      <td>43000</td>\n",
       "      <td>0</td>\n",
       "    </tr>\n",
       "    <tr>\n",
       "      <th>3</th>\n",
       "      <td>27</td>\n",
       "      <td>57000</td>\n",
       "      <td>0</td>\n",
       "    </tr>\n",
       "    <tr>\n",
       "      <th>4</th>\n",
       "      <td>19</td>\n",
       "      <td>76000</td>\n",
       "      <td>0</td>\n",
       "    </tr>\n",
       "  </tbody>\n",
       "</table>\n",
       "</div>"
      ],
      "text/plain": [
       "   idade  salario  comprou\n",
       "0     19    19000        0\n",
       "1     35    20000        0\n",
       "2     26    43000        0\n",
       "3     27    57000        0\n",
       "4     19    76000        0"
      ]
     },
     "execution_count": 2,
     "metadata": {},
     "output_type": "execute_result"
    }
   ],
   "source": [
    "df = pd.read_csv('data/anuncios.csv')\n",
    "print(df.shape)\n",
    "df.head()"
   ]
  },
  {
   "cell_type": "code",
   "execution_count": 3,
   "metadata": {},
   "outputs": [
    {
     "name": "stdout",
     "output_type": "stream",
     "text": [
      "(400, 1) (400, 1)\n"
     ]
    }
   ],
   "source": [
    "x, y = df.idade.values.reshape(-1,1), df.comprou.values.reshape(-1,1)\n",
    "\n",
    "print(x.shape, y.shape)"
   ]
  },
  {
   "cell_type": "code",
   "execution_count": 4,
   "metadata": {},
   "outputs": [
    {
     "data": {
      "text/plain": [
       "<matplotlib.text.Text at 0x11705f5f8>"
      ]
     },
     "execution_count": 4,
     "metadata": {},
     "output_type": "execute_result"
    },
    {
     "data": {
      "image/png": "[encoded data removed]",
      "text/plain": [
       "<matplotlib.figure.Figure at 0x117004b00>"
      ]
     },
     "metadata": {},
     "output_type": "display_data"
    }
   ],
   "source": [
    "plt.scatter(x, y, c=y, cmap='bwr')\n",
    "plt.xlabel('idade')\n",
    "plt.ylabel('comprou?')"
   ]
  },
  {
   "cell_type": "code",
   "execution_count": 5,
   "metadata": {},
   "outputs": [
    {
     "name": "stdout",
     "output_type": "stream",
     "text": [
      "-1.0 1.0\n"
     ]
    }
   ],
   "source": [
    "minmax = MinMaxScaler(feature_range=(-1,1))\n",
    "x = minmax.fit_transform(x.astype(np.float64))\n",
    "\n",
    "print(x.min(), x.max())"
   ]
  },
  {
   "cell_type": "markdown",
   "metadata": {},
   "source": [
    "Vamos utilizar o _sklearn_ como gabarito para nossa implementação. Entretanto, como a Regressão Logística do _sklearn_ faz uma __regularização L2__ automaticamente, temos de definir $C=10^{15}$ para \"anular\" a regularização. O parâmetro $C$ define a inversa da força da regularização (ver [documentação](http://scikit-learn.org/stable/modules/generated/sklearn.linear_model.LogisticRegression.html)). __Logo, quanto menor for o $C$, maior será a regularização e menores serão os valores dos pesos e bias.__"
   ]
  },
  {
   "cell_type": "code",
   "execution_count": 6,
   "metadata": {},
   "outputs": [
    {
     "name": "stdout",
     "output_type": "stream",
     "text": [
      "[[ 3.96794202]] [-0.6751072]\n",
      "0.84\n"
     ]
    }
   ],
   "source": [
    "reg = LogisticRegression(C=1e15)\n",
    "reg.fit(x, y.ravel())\n",
    "\n",
    "print(reg.coef_, reg.intercept_)\n",
    "print(reg.score(x, y))"
   ]
  },
  {
   "cell_type": "code",
   "execution_count": 7,
   "metadata": {},
   "outputs": [
    {
     "data": {
      "text/plain": [
       "<matplotlib.text.Text at 0x11a5001d0>"
      ]
     },
     "execution_count": 7,
     "metadata": {},
     "output_type": "execute_result"
    },
    {
     "data": {
      "image/png": "[encoded data removed]",
      "text/plain": [
       "<matplotlib.figure.Figure at 0x11a4650b8>"
      ]
     },
     "metadata": {},
     "output_type": "display_data"
    }
   ],
   "source": [
    "x_test = np.linspace(x.min(), x.max(), 100).reshape(-1,1)\n",
    "y_sk = reg.predict_proba(x_test)\n",
    "\n",
    "plt.scatter(x, y, c=y, cmap='bwr')\n",
    "plt.plot(x_test, y_sk[:,1], color='black')\n",
    "plt.xlabel('idade')\n",
    "plt.ylabel('comprou?')"
   ]
  },
  {
   "cell_type": "code",
   "execution_count": 8,
   "metadata": {
    "collapsed": true
   },
   "outputs": [],
   "source": [
    "def sigmoid(x, derivative=False):\n",
    "    if derivative:\n",
    "        y = sigmoid(x)\n",
    "        return y*(1-y)\n",
    "    else:\n",
    "        return 1.0/(1.0 + np.exp(-x))"
   ]
  },
  {
   "cell_type": "markdown",
   "metadata": {},
   "source": [
    "## Numpy "
   ]
  },
  {
   "cell_type": "code",
   "execution_count": 9,
   "metadata": {},
   "outputs": [
    {
     "name": "stdout",
     "output_type": "stream",
     "text": [
      "step 0: 0.7378910468099039\n",
      "step 100: 0.4398128074724566\n",
      "step 200: 0.42394187072858963\n",
      "step 300: 0.42119405777088326\n",
      "step 400: 0.42055640457166404\n",
      "step 500: 0.4203903328024951\n",
      "step 600: 0.4203446906130376\n",
      "step 700: 0.4203318037965076\n",
      "step 800: 0.42032811398983083\n",
      "step 900: 0.4203270496636705\n",
      "step 1000: 0.4203267414440004\n",
      "w:  [[ 3.96392998]]\n",
      "b:  -0.674821803165\n"
     ]
    }
   ],
   "source": [
    "D = x.shape[1]\n",
    "w = 2*np.random.random((1, D))-1 # [1x1]\n",
    "b = 2*np.random.random()-1       # [1x1]\n",
    "\n",
    "for step in range(1001):\n",
    "    z = np.dot(x, w.T) + b # [400x1]\n",
    "    y_pred = sigmoid(z)    # [400x1]\n",
    "    error = y - y_pred     # [400x1]\n",
    "    \n",
    "    w = w + 1e-3*np.dot(error.T, x)\n",
    "    b = b + 1e-3*error.sum()\n",
    "    \n",
    "    if step%100 == 0:\n",
    "        cost = np.mean( -y*np.log(y_pred) -(1-y)*np.log(1-y_pred) )\n",
    "        print('step {0}: {1}'.format(step, cost))\n",
    "\n",
    "print('w: ', w)\n",
    "print('b: ', b)"
   ]
  },
  {
   "cell_type": "code",
   "execution_count": 10,
   "metadata": {},
   "outputs": [
    {
     "data": {
      "text/plain": [
       "<matplotlib.text.Text at 0x117057ef0>"
      ]
     },
     "execution_count": 10,
     "metadata": {},
     "output_type": "execute_result"
    },
    {
     "data": {
      "image/png": "[encoded data removed]",
      "text/plain": [
       "<matplotlib.figure.Figure at 0x11a40cba8>"
      ]
     },
     "metadata": {},
     "output_type": "display_data"
    }
   ],
   "source": [
    "x_test = np.linspace(x.min(), x.max(), 100).reshape(-1,1)\n",
    "y_sk = reg.predict_proba(x_test)\n",
    "y_ = sigmoid(np.dot(x_test, w.T) + b)\n",
    "\n",
    "plt.scatter(x, y, c=y, cmap='bwr')\n",
    "plt.plot(x_test, y_sk[:,1], color='black', linewidth=7.0)\n",
    "plt.plot(x_test, y_, color='yellow')\n",
    "plt.xlabel('idade')\n",
    "plt.ylabel('comprou?')"
   ]
  },
  {
   "cell_type": "code",
   "execution_count": 11,
   "metadata": {},
   "outputs": [
    {
     "name": "stdout",
     "output_type": "stream",
     "text": [
      "Acurácia pelo Scikit-learn: 0.84\n",
      "Acurária pela nossa implementação: 0.84\n"
     ]
    }
   ],
   "source": [
    "print('Acurácia pelo Scikit-learn: {}'.format(reg.score(x, y)))\n",
    "\n",
    "y_pred = np.round(sigmoid(np.dot(x, w.T) + b))\n",
    "print('Acurária pela nossa implementação: {}'.format(accuracy_score(y, y_pred)))"
   ]
  },
  {
   "cell_type": "markdown",
   "metadata": {},
   "source": [
    "## Keras"
   ]
  },
  {
   "cell_type": "code",
   "execution_count": null,
   "metadata": {
    "collapsed": true
   },
   "outputs": [],
   "source": []
  },
  {
   "cell_type": "markdown",
   "metadata": {},
   "source": [
    "## Tensorflow"
   ]
  },
  {
   "cell_type": "code",
   "execution_count": null,
   "metadata": {
    "collapsed": true
   },
   "outputs": [],
   "source": []
  },
  {
   "cell_type": "markdown",
   "metadata": {},
   "source": [
    "# Referências"
   ]
  },
  {
   "cell_type": "markdown",
   "metadata": {},
   "source": [
    "1. [Logistic Regression from Scratch in Python](https://beckernick.github.io/logistic-regression-from-scratch/)"
   ]
  }
 ],
 "metadata": {
  "kernelspec": {
   "display_name": "Python 3",
   "language": "python",
   "name": "python3"
  },
  "language_info": {
   "codemirror_mode": {
    "name": "ipython",
    "version": 3
   },
   "file_extension": ".py",
   "mimetype": "text/x-python",
   "name": "python",
   "nbconvert_exporter": "python",
   "pygments_lexer": "ipython3",
   "version": "3.6.2"
  }
 },
 "nbformat": 4,
 "nbformat_minor": 2
}
