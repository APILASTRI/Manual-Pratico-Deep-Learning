{
 "cells": [
  {
   "cell_type": "markdown",
   "metadata": {},
   "source": [
    "# Sumário"
   ]
  },
  {
   "cell_type": "markdown",
   "metadata": {},
   "source": [
    "[Funções de Ativação](#Funções-de-Ativação)\n",
    "\n",
    "[Implementação](#Implementação)\n",
    "\n",
    "[Teste](#Teste)\n",
    "\n",
    "[Referências](#Referências)"
   ]
  },
  {
   "cell_type": "markdown",
   "metadata": {},
   "source": [
    "# Imports and Configurações"
   ]
  },
  {
   "cell_type": "code",
   "execution_count": 1,
   "metadata": {
    "collapsed": true
   },
   "outputs": [],
   "source": [
    "import numpy as np"
   ]
  },
  {
   "cell_type": "markdown",
   "metadata": {},
   "source": [
    "# Funções de Ativação"
   ]
  },
  {
   "cell_type": "code",
   "execution_count": 2,
   "metadata": {
    "collapsed": true
   },
   "outputs": [],
   "source": [
    "def linear(x, derivative=False):\n",
    "    return np.ones_like(x) if derivative else x\n",
    "\n",
    "def sigmoid(x, derivative=False):\n",
    "    if derivative:\n",
    "        y = sigmoid(x)\n",
    "        return y*(1-y)\n",
    "    return 1.0/(1.0 + np.exp(-x))\n",
    "\n",
    "def tanh(x, derivative=False):\n",
    "    if derivative:\n",
    "        y = tanh(x)\n",
    "        return 1 - y**2\n",
    "    return (np.exp(x) - np.exp(-x))/(np.exp(x) + np.exp(-x))\n",
    "\n",
    "def relu(x, derivative=False):\n",
    "    if derivative:\n",
    "        return np.where(x <= 0, 0, 1)\n",
    "    return np.maximum(0, x)\n",
    "\n",
    "def leaky_relu(x, derivative=False):\n",
    "    if derivative:\n",
    "        return np.where(x <= 0, 0.1, 1)\n",
    "    return np.where(x < 0, 0.1*x, x)\n",
    "\n",
    "def gaussian(x, derivative=False):\n",
    "    if derivative:\n",
    "        return -2*x*np.exp(-x**2)\n",
    "    return np.exp(-x**2)"
   ]
  },
  {
   "cell_type": "markdown",
   "metadata": {},
   "source": [
    "# Funções de custo"
   ]
  },
  {
   "cell_type": "code",
   "execution_count": 3,
   "metadata": {
    "collapsed": true
   },
   "outputs": [],
   "source": [
    "def mse(y, y_pred, derivative=False):\n",
    "    if derivative:\n",
    "        return np.mean(-(y - y_pred))\n",
    "    return np.mean((y - y_pred)**2)\n",
    "\n",
    "def sigmoid_cross_entropy(y, y_pred, derivative=False):\n",
    "    if derivative:\n",
    "        pass\n",
    "    return -np.mean(y*np.log(y_pred) + (1-y)*np.log(1-y_pred))\n",
    "\n",
    "def softmax_cross_entropy(y, y_pred, derivative=False):\n",
    "    if derivative:\n",
    "        return -( y*(1/y_pred) + (1-y)*(1/(1-y_pred)) )\n",
    "    return -np.mean((y*np.log(y_pred) + (1-y)*np.log(1-y_pred)).sum(axis=1))"
   ]
  },
  {
   "cell_type": "markdown",
   "metadata": {},
   "source": [
    "# Implementação "
   ]
  },
  {
   "cell_type": "code",
   "execution_count": 4,
   "metadata": {
    "collapsed": true
   },
   "outputs": [],
   "source": [
    "class NeuralNetwork():\n",
    "    def __init__(self, layers_size, activations, cost_func, learning_rate=1e-3):\n",
    "        self.layers_size = layers_size\n",
    "        self.activations = activations\n",
    "        self.cost_func = cost_func\n",
    "        self.learning_rate = learning_rate\n",
    "        self._activ_inp = []\n",
    "        self._activ_out = []\n",
    "        self.weights = [np.random.randn(out, inp) for inp, out in zip(self.layers_size[:-1], self.layers_size[1:])]\n",
    "        self.biases = [np.random.randn(1, out) for out in self.layers_size[1:]]\n",
    "            \n",
    "    def fit(self, x, y, epochs=100, verbose=10):\n",
    "        for epoch in range(epochs):\n",
    "            y_pred = self.__feedforward(x)\n",
    "            self.__backprop(y, y_pred)\n",
    "            \n",
    "            if epoch % verbose == 0:\n",
    "                cost = self.cost_func(y, y_pred)\n",
    "                print(\"epoch: {0:=4}/{1} cost: {2}\".format(epoch, epochs, cost))\n",
    "    \n",
    "    def predict(self, x):\n",
    "        return self.__feedforward(x)\n",
    "    \n",
    "    def __feedforward(self, x):\n",
    "        self._activ_inp, self._activ_out = [], []\n",
    "        self._activ_out.append(x)\n",
    "        for w, b, activation in zip(self.weights, self.biases, self.activations):\n",
    "            y = np.dot(self._activ_out[-1], w.T) + b\n",
    "            self._activ_inp.append(y)\n",
    "            self._activ_out.append(activation(y))\n",
    "        return self._activ_out[-1]\n",
    "    \n",
    "    def __backprop(self, y, y_pred):\n",
    "        self._activ_out.pop()\n",
    "        \n",
    "        last_delta = self.cost_func(y, y_pred, derivative=True)\n",
    "        dweights, dbiases = [], []\n",
    "        for inp, out, w, activation in zip(reversed(self._activ_inp), reversed(self._activ_out), reversed(self.weights), reversed(self.activations)):\n",
    "            dactivation = activation(inp, derivative=True)*last_delta\n",
    "            last_delta = np.dot(dactivation, w)\n",
    "            dweights.append(np.dot(dactivation.T, out))\n",
    "            dbiases.append(1.0*dactivation.sum(axis=0, keepdims=True))\n",
    "        \n",
    "        self.weights = [w - self.learning_rate*dw for w, dw in zip(self.weights, reversed(dweights))]\n",
    "        self.biases  = [b - self.learning_rate*db for b, db in zip(self.biases, reversed(dbiases))]"
   ]
  },
  {
   "cell_type": "markdown",
   "metadata": {},
   "source": [
    "# Teste"
   ]
  },
  {
   "cell_type": "code",
   "execution_count": 5,
   "metadata": {},
   "outputs": [
    {
     "name": "stdout",
     "output_type": "stream",
     "text": [
      "(4, 2) (4, 1)\n"
     ]
    }
   ],
   "source": [
    "x = np.array([[0, 0], [0, 1], [1, 0], [1, 1]])\n",
    "y = np.array([0, 1, 1, 0]).reshape(-1, 1)\n",
    "\n",
    "print(x.shape, y.shape)"
   ]
  },
  {
   "cell_type": "code",
   "execution_count": 9,
   "metadata": {},
   "outputs": [
    {
     "name": "stdout",
     "output_type": "stream",
     "text": [
      "[(2, 3), (3, 4), (4, 3), (3, 1)]\n",
      "[(1, 3), (1, 4), (1, 3), (1, 1)]\n",
      "epoch:    0/100 cost: 5.600268569064188\n",
      "epoch:   10/100 cost: 0.111840369854695\n",
      "epoch:   20/100 cost: 0.11331317892708881\n",
      "epoch:   30/100 cost: 0.11341671000146131\n",
      "epoch:   40/100 cost: 0.11341886335130982\n",
      "epoch:   50/100 cost: 0.1134189074967369\n",
      "epoch:   60/100 cost: 0.11341890840148823\n",
      "epoch:   70/100 cost: 0.11341890842003076\n",
      "epoch:   80/100 cost: 0.11341890842041087\n",
      "epoch:   90/100 cost: 0.11341890842041856\n"
     ]
    },
    {
     "data": {
      "text/plain": [
       "array([[ 0.39883793],\n",
       "       [ 0.73957958],\n",
       "       [ 1.26034052],\n",
       "       [-0.39875802]])"
      ]
     },
     "execution_count": 9,
     "metadata": {},
     "output_type": "execute_result"
    }
   ],
   "source": [
    "D = x.shape[1]\n",
    "nn = NeuralNetwork(layers_size=[D, 3, 4, 3, 1], activations=[relu, relu, relu, linear], cost_func=mse, learning_rate=1e-2)\n",
    "\n",
    "print([w.T.shape for w in nn.weights])\n",
    "print([b.shape for b in nn.biases])\n",
    "nn.fit(x, y)\n",
    "nn.predict(x)"
   ]
  },
  {
   "cell_type": "markdown",
   "metadata": {},
   "source": [
    "# Referências"
   ]
  },
  {
   "cell_type": "markdown",
   "metadata": {},
   "source": []
  }
 ],
 "metadata": {
  "kernelspec": {
   "display_name": "Python 3",
   "language": "python",
   "name": "python3"
  },
  "language_info": {
   "codemirror_mode": {
    "name": "ipython",
    "version": 3
   },
   "file_extension": ".py",
   "mimetype": "text/x-python",
   "name": "python",
   "nbconvert_exporter": "python",
   "pygments_lexer": "ipython3",
   "version": "3.6.2"
  }
 },
 "nbformat": 4,
 "nbformat_minor": 2
}
