{
 "cells": [
  {
   "cell_type": "markdown",
   "metadata": {},
   "source": [
    "# Sumário"
   ]
  },
  {
   "cell_type": "markdown",
   "metadata": {},
   "source": [
    "[Funções de Ativação](#Funções-de-Ativação)\n",
    "\n",
    "[Implementação](#Implementação)\n",
    "\n",
    "[Teste](#Teste)\n",
    "\n",
    "[Referências](#Referências)"
   ]
  },
  {
   "cell_type": "markdown",
   "metadata": {},
   "source": [
    "# Imports and Configurações"
   ]
  },
  {
   "cell_type": "code",
   "execution_count": 1,
   "metadata": {
    "collapsed": true
   },
   "outputs": [],
   "source": [
    "import numpy as np"
   ]
  },
  {
   "cell_type": "markdown",
   "metadata": {},
   "source": [
    "# Funções de Ativação"
   ]
  },
  {
   "cell_type": "code",
   "execution_count": 2,
   "metadata": {
    "collapsed": true
   },
   "outputs": [],
   "source": [
    "def linear(x, derivative=False):\n",
    "    return np.ones(x.shape[0]) if derivative else x\n",
    "\n",
    "def sigmoid(x, derivative=False):\n",
    "    if derivative:\n",
    "        y = sigmoid(x)\n",
    "        return y*(1-y)\n",
    "    else:\n",
    "        return 1.0/(1.0 + np.exp(-x))\n",
    "    \n",
    "def tanh(x, derivative=False):\n",
    "    if derivative:\n",
    "        y = tanh(x)\n",
    "        return 1 - y**2\n",
    "    else:\n",
    "        return (np.exp(x) - np.exp(-x))/(np.exp(x) + np.exp(-x))\n",
    "    \n",
    "def relu(x, derivative=False):\n",
    "    if derivative:\n",
    "        x = np.where(x <= 0, 0, 1)\n",
    "        return x\n",
    "    else:\n",
    "        return np.maximum(0, x)\n",
    "    \n",
    "def leaky_relu(x, derivative=False):\n",
    "    if derivative:\n",
    "        x = np.where(x <= 0, 0.1, 1)\n",
    "        return x\n",
    "    else:\n",
    "        x[x < 0] = 0.1*x[x < 0]\n",
    "        return x\n",
    "    \n",
    "def gaussian(x, derivative=False):\n",
    "    if derivative:\n",
    "        return -2*x*np.exp(-x**2)\n",
    "    else:\n",
    "        return np.exp(-x**2)"
   ]
  },
  {
   "cell_type": "markdown",
   "metadata": {},
   "source": [
    "# Implementação "
   ]
  },
  {
   "cell_type": "code",
   "execution_count": 33,
   "metadata": {
    "collapsed": true
   },
   "outputs": [],
   "source": [
    "class NeuralNetwork():\n",
    "    def __init__(self, layers_size, activations, learning_rate=1e-3):\n",
    "        self.layers_size = layers_size\n",
    "        self.activations = activations\n",
    "        self.learning_rate = learning_rate\n",
    "        self.weights = self.__init_weights_and_bias()\n",
    "            \n",
    "    def fit(self, x, y):\n",
    "        pass\n",
    "    \n",
    "    def predict(self, x):\n",
    "        return self.__feedforward(x)\n",
    "    \n",
    "    def __init_weights_and_bias(self):\n",
    "        weights = []\n",
    "        for inp_layer, out_layer in zip(self.layers_size[:-1], self.layers_size[1:]):\n",
    "            weights.append(np.random.randn(out_layer, inp_layer))\n",
    "        return weights\n",
    "        \n",
    "    def __feedforward(self, x):\n",
    "        inp = x\n",
    "        for w, f in zip(self.weights, self.activations):\n",
    "            inp = f(np.dot(inp, w.T))\n",
    "        return inp\n",
    "    \n",
    "    def __backprop(self):\n",
    "        pass"
   ]
  },
  {
   "cell_type": "markdown",
   "metadata": {},
   "source": [
    "# Teste"
   ]
  },
  {
   "cell_type": "code",
   "execution_count": 12,
   "metadata": {},
   "outputs": [
    {
     "name": "stdout",
     "output_type": "stream",
     "text": [
      "(10, 2) (10, 1)\n"
     ]
    }
   ],
   "source": [
    "x = np.random.randint(1, 10, (10,2))\n",
    "y = np.random.randint(0, 2, 10).reshape(-1,1)\n",
    "\n",
    "print(x.shape, y.shape)"
   ]
  },
  {
   "cell_type": "code",
   "execution_count": 41,
   "metadata": {},
   "outputs": [
    {
     "name": "stdout",
     "output_type": "stream",
     "text": [
      "[(2, 3), (3, 4), (4, 3), (3, 1)]\n",
      "[[ 0.99999847]\n",
      " [ 0.99999409]\n",
      " [ 0.98651973]\n",
      " [ 1.        ]\n",
      " [ 0.9970457 ]\n",
      " [ 0.95260641]\n",
      " [ 0.99998201]\n",
      " [ 0.99999989]\n",
      " [ 0.99981332]\n",
      " [ 0.91211109]]\n"
     ]
    }
   ],
   "source": [
    "nn = NeuralNetwork(layers_size=[2, 3, 4, 3, 1], activations=[relu, relu, relu, sigmoid])\n",
    "\n",
    "print([w.T.shape for w in nn.weights])\n",
    "print(nn.predict(x))"
   ]
  },
  {
   "cell_type": "markdown",
   "metadata": {},
   "source": [
    "# Referências"
   ]
  },
  {
   "cell_type": "markdown",
   "metadata": {},
   "source": []
  }
 ],
 "metadata": {
  "kernelspec": {
   "display_name": "Python 3",
   "language": "python",
   "name": "python3"
  },
  "language_info": {
   "codemirror_mode": {
    "name": "ipython",
    "version": 3
   },
   "file_extension": ".py",
   "mimetype": "text/x-python",
   "name": "python",
   "nbconvert_exporter": "python",
   "pygments_lexer": "ipython3",
   "version": "3.6.2"
  }
 },
 "nbformat": 4,
 "nbformat_minor": 2
}
