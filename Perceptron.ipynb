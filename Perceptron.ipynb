{
 "cells": [
  {
   "cell_type": "markdown",
   "metadata": {},
   "source": [
    "No notebook anterior, nós aprendemos intuitivamente como o perceptron aprende. De maneira geral, nós vamos atualizando os pesos e o bias sempre buscando diminuir uma função de custo. Nesse notebook, nós vamos ver como esse aprendizado realmente acontence, tanto na teoria quanto na prática. Também utilizaremos o Perceptron para resolver problemas de regressão, classificação e regressão logística.\n",
    "\n",
    "__Objetivos__:\n",
    "\n",
    "- Implementar o perceptron e seu modelo de aprendizado em python puro, Numpy, Keras e Tensorflow\n",
    "- Utilizar o perceptron para regressão e classificação"
   ]
  },
  {
   "cell_type": "markdown",
   "metadata": {
    "heading_collapsed": true
   },
   "source": [
    "# Sumário"
   ]
  },
  {
   "cell_type": "markdown",
   "metadata": {
    "hidden": true
   },
   "source": []
  },
  {
   "cell_type": "markdown",
   "metadata": {},
   "source": [
    "# Imports e Configurações"
   ]
  },
  {
   "cell_type": "code",
   "execution_count": 1,
   "metadata": {
    "ExecuteTime": {
     "end_time": "2017-09-20T12:53:30.345746Z",
     "start_time": "2017-09-20T12:52:48.057739Z"
    }
   },
   "outputs": [
    {
     "name": "stderr",
     "output_type": "stream",
     "text": [
      "Using TensorFlow backend.\n"
     ]
    }
   ],
   "source": [
    "import numpy as np\n",
    "import pandas as pd\n",
    "import matplotlib.pyplot as plt\n",
    "import seaborn as sb\n",
    "import tensorflow as tf\n",
    "from keras.models import Sequential\n",
    "from keras.layers import Dense, Flatten\n",
    "from keras.initializers import RandomUniform\n",
    "from sklearn.preprocessing import MinMaxScaler\n",
    "from sklearn.datasets.samples_generator import make_blobs\n",
    "\n",
    "%matplotlib inline"
   ]
  },
  {
   "cell_type": "markdown",
   "metadata": {
    "heading_collapsed": true
   },
   "source": [
    "# Introdução"
   ]
  },
  {
   "cell_type": "markdown",
   "metadata": {
    "hidden": true
   },
   "source": [
    "O tipo mais básico de Rede Neural Artificial é formada por apenas um neurônio, o __Perceptron__. O Perceptron nada mais é que um  classificador/regressor linear responsável por mapear uma ou mais entradas em uma saída desejada. Além disso, o método de aprendizagem do Perceptron é adaptativo, ou seja, os melhores parâmetros são aprendidos utilizando algum método de minimização conhecido. Em geral, esse método é o _Gradiente Descendente_, mas outros métodos de minimização podem ser utilizados.\n",
    "\n",
    "O perceptron é formado por:\n",
    "\n",
    "<img src='images/perceptron.png' width='350'>\n",
    "\n",
    "- __entradas__ $x_1 ... x_D$: representam os atributos dos seus dados com dimensionalidade D. O Perceptron aceita qualquer tamanho de entrada, porém a saída é sempre apenas um valor.\n",
    "- __junção aditiva__ $\\sum$: também chamada de _função agregadora_, nada mais é que a soma ponderada das entradas com os __pesos__ ($w_1 ... w_D)$. Em geral, também é alimentada por um __bias__ $b$, responsável por deslocar o resultado do somatório. A junção aditiva é descrita pela seguinte fórmula:\n",
    "\n",
    "$$\\sum_i^D{w_ix_i} + b$$\n",
    "\n",
    "- __função de ativação__ $f$: inicialmente, o perceptron foi projetado para utilizar a função de ativação linear, ou seja, o resultado da junção aditiva representava a saída do Perceptron.\n",
    "\n",
    "Logo, o Perceptron é representado pela seguinte fórmula matemática:\n",
    "\n",
    "$$y_{pred} = f(\\sum_i^D{w_ix_i} + b)$$\n",
    "\n",
    "Onde:\n",
    "\n",
    "- $D$: representa a dimensionalidade das amostras, ou seja, a quantidade de atributos de cada amostra.\n",
    "- $x$: representa os atributos dos nossos dados que servem de entrada para o Perceptron.\n",
    "- $w$: representam os __pesos sinápticos__ que ponderam as entradas.\n",
    "- $b$: representa o __bias__, responsável por deslocar a fronteira de decisão além da origem e não depende de nenhum valor de entrada. Repare que o bias encontra-se fora do somatório.\n",
    "- $f$: função de ativação.\n",
    "- $y_{pred}$: representa a saída do Perceptron (o valor predito).\n"
   ]
  },
  {
   "cell_type": "markdown",
   "metadata": {
    "hidden": true
   },
   "source": [
    "## Como o Perceptron Aprende?"
   ]
  },
  {
   "cell_type": "markdown",
   "metadata": {
    "hidden": true
   },
   "source": [
    "Se você já leu sobre o Perceptron antes, você provavelmente já viu que o modo como o perceptron aprende - isto é, a forma como os pesos são atualizados -, dá-se pela seguite fórmula:\n",
    "\n",
    "$$w_i = w_i + \\lambda(y_i - y_{pred})x_i$$\n",
    "\n",
    "Onde $\\lambda$ é a __taxa de aprendizagem__.\n",
    "\n",
    "Mas você já imaginou da onde vem essa fórmula? Em primeiro lugar, o método de atulização dos pesos é baseado no __Gradiente Descendente__. Sendo $\\overrightarrow{w} = \\{w_1, w_2, ..., w_D\\}$, a atualização dos pesos é dados por:\n",
    "\n",
    "$$\\overrightarrow{w} = \\overrightarrow{w} + \\Delta{\\overrightarrow{w}}$$\n",
    "\n",
    "em que:\n",
    "\n",
    "$$\\Delta{\\overrightarrow{w}} = \\lambda\\nabla E(\\overrightarrow{w})$$\n",
    "\n",
    "Sendo $\\nabla E(\\overrightarrow{w})$ o gradiente de uma função que depende de $\\overrightarrow{w}$ e que queremos minimizar.\n",
    "\n",
    "Agora, imagine que estamos utilizando um Perceptron para regressão, cuja função de custo geralmente é:\n",
    "\n",
    "$$J(w) = \\frac{1}{2}\\sum_{i}^N (y_i - y_{pred_i})^2$$\n",
    "\n",
    "Onde $N$ é a quantidade de amostras nos dados, e as demais variáveis representam as mesmas vistas anteriormente. Repare que a função de custo é quase uma _Mean Squared Error (MSE)_, só que ao invés de dividir por $N$, está se dividindo por 2 o resultado do somatório. O por quê disso será entendido mais a frente na demonstração.\n",
    "\n",
    "Queremos encontrar o vetor $\\overrightarrow{w}$ que minimiza a função $J$. Assim, temos:\n",
    "\n",
    "$$\\frac{\\partial J}{\\partial w_i} = \\frac{\\partial}{\\partial w_i}\\frac{1}{2}\\sum_i^N (y_i - y_{pred_i})^2$$\n",
    "\n",
    "Como a derivada do somatório é igual ao somatório das derivadas:\n",
    "\n",
    "$$= \\frac{1}{2}\\sum_i^N \\frac{\\partial}{\\partial w_i}(y_i - y_{pred_i})^2$$\n",
    "\n",
    "Aplicando a regra da cadeia:\n",
    "\n",
    "$$= \\sum_i^N (y_i - y_{pred_i})\\frac{\\partial}{\\partial w_i}(y_i - y_{pred_i})$$\n",
    "\n",
    "Repare que, quando derivamos $(y_i - y_{pred_i})^2$, o expoente 2, ao sair do somatório, foi multiplicado por $\\frac{1}{2}$, tornando-o 1. Isso é o que os matemáticos denominam de \"conveniência matemática\". \n",
    "\n",
    "Como $y_{pred_i} = w_i*x_i + b$ é uma função que depende de $w$, e sua derivada em relação a $w_i$ é apenas $x_i$, temos que:\n",
    "\n",
    "$$\\frac{\\partial J}{\\partial w_i} = \\sum_i^N (y_i - y_{pred_i})(-x_i)$$\n",
    "$$\\frac{\\partial J}{\\partial w_i} = -\\sum_i^N (y_i - y_{pred_i})x_i$$\n",
    "\n",
    "Na forma vetorizada, essa equação torna-se:\n",
    "\n",
    "$$\\frac{\\partial J}{\\partial \\overrightarrow{w}} = -(\\overrightarrow{y} - \\overrightarrow{y}_{pred})\\overrightarrow{x}$$\n",
    "\n",
    "Como o gradiente nos dá a direção que a função cresce, e queremos minimizar a função, podemos remover o sinal de menos em frente ao resultado. Logo, chegamos que a atualização dos pesos pelo perceptron é dada por $w_i = w_i + \\lambda(y_i - y_{pred})x_i$."
   ]
  },
  {
   "cell_type": "markdown",
   "metadata": {
    "heading_collapsed": true
   },
   "source": [
    "# Regressão "
   ]
  },
  {
   "cell_type": "code",
   "execution_count": 2,
   "metadata": {
    "ExecuteTime": {
     "end_time": "2017-09-14T19:21:04.802972Z",
     "start_time": "2017-09-14T19:21:04.773952Z"
    },
    "hidden": true
   },
   "outputs": [
    {
     "name": "stdout",
     "output_type": "stream",
     "text": [
      "(100, 2)\n"
     ]
    },
    {
     "data": {
      "text/html": [
       "<div>\n",
       "<style>\n",
       "    .dataframe thead tr:only-child th {\n",
       "        text-align: right;\n",
       "    }\n",
       "\n",
       "    .dataframe thead th {\n",
       "        text-align: left;\n",
       "    }\n",
       "\n",
       "    .dataframe tbody tr th {\n",
       "        vertical-align: top;\n",
       "    }\n",
       "</style>\n",
       "<table border=\"1\" class=\"dataframe\">\n",
       "  <thead>\n",
       "    <tr style=\"text-align: right;\">\n",
       "      <th></th>\n",
       "      <th>Altura</th>\n",
       "      <th>Peso</th>\n",
       "    </tr>\n",
       "  </thead>\n",
       "  <tbody>\n",
       "    <tr>\n",
       "      <th>0</th>\n",
       "      <td>187</td>\n",
       "      <td>109.72</td>\n",
       "    </tr>\n",
       "    <tr>\n",
       "      <th>1</th>\n",
       "      <td>177</td>\n",
       "      <td>91.09</td>\n",
       "    </tr>\n",
       "    <tr>\n",
       "      <th>2</th>\n",
       "      <td>180</td>\n",
       "      <td>88.93</td>\n",
       "    </tr>\n",
       "    <tr>\n",
       "      <th>3</th>\n",
       "      <td>177</td>\n",
       "      <td>89.39</td>\n",
       "    </tr>\n",
       "    <tr>\n",
       "      <th>4</th>\n",
       "      <td>177</td>\n",
       "      <td>92.02</td>\n",
       "    </tr>\n",
       "    <tr>\n",
       "      <th>5</th>\n",
       "      <td>183</td>\n",
       "      <td>94.70</td>\n",
       "    </tr>\n",
       "    <tr>\n",
       "      <th>6</th>\n",
       "      <td>178</td>\n",
       "      <td>83.57</td>\n",
       "    </tr>\n",
       "    <tr>\n",
       "      <th>7</th>\n",
       "      <td>177</td>\n",
       "      <td>85.19</td>\n",
       "    </tr>\n",
       "    <tr>\n",
       "      <th>8</th>\n",
       "      <td>183</td>\n",
       "      <td>92.96</td>\n",
       "    </tr>\n",
       "    <tr>\n",
       "      <th>9</th>\n",
       "      <td>188</td>\n",
       "      <td>108.21</td>\n",
       "    </tr>\n",
       "  </tbody>\n",
       "</table>\n",
       "</div>"
      ],
      "text/plain": [
       "   Altura    Peso\n",
       "0     187  109.72\n",
       "1     177   91.09\n",
       "2     180   88.93\n",
       "3     177   89.39\n",
       "4     177   92.02\n",
       "5     183   94.70\n",
       "6     178   83.57\n",
       "7     177   85.19\n",
       "8     183   92.96\n",
       "9     188  108.21"
      ]
     },
     "execution_count": 2,
     "metadata": {},
     "output_type": "execute_result"
    }
   ],
   "source": [
    "df = pd.read_csv('data/medidas.csv')\n",
    "print(df.shape)\n",
    "df.head(10)"
   ]
  },
  {
   "cell_type": "code",
   "execution_count": 3,
   "metadata": {
    "ExecuteTime": {
     "end_time": "2017-09-14T19:21:08.765341Z",
     "start_time": "2017-09-14T19:21:08.441110Z"
    },
    "hidden": true
   },
   "outputs": [
    {
     "data": {
      "text/plain": [
       "<matplotlib.text.Text at 0x24d5e598898>"
      ]
     },
     "execution_count": 3,
     "metadata": {},
     "output_type": "execute_result"
    },
    {
     "data": {
      "image/png": "[encoded data removed]",
      "text/plain": [
       "<matplotlib.figure.Figure at 0x24d5e3e7978>"
      ]
     },
     "metadata": {},
     "output_type": "display_data"
    }
   ],
   "source": [
    "x = df.Altura.values\n",
    "y = df.Peso.values\n",
    "\n",
    "plt.figure()\n",
    "plt.scatter(x, y)\n",
    "plt.xlabel('Altura')\n",
    "plt.ylabel('Peso')"
   ]
  },
  {
   "cell_type": "code",
   "execution_count": 4,
   "metadata": {
    "ExecuteTime": {
     "end_time": "2017-09-14T19:21:10.893855Z",
     "start_time": "2017-09-14T19:21:10.883847Z"
    },
    "hidden": true
   },
   "outputs": [
    {
     "name": "stdout",
     "output_type": "stream",
     "text": [
      "(100,) (100,)\n"
     ]
    }
   ],
   "source": [
    "print(x.shape, y.shape)"
   ]
  },
  {
   "cell_type": "code",
   "execution_count": 5,
   "metadata": {
    "ExecuteTime": {
     "end_time": "2017-09-14T19:21:11.535313Z",
     "start_time": "2017-09-14T19:21:11.527304Z"
    },
    "hidden": true
   },
   "outputs": [
    {
     "name": "stdout",
     "output_type": "stream",
     "text": [
      "(100, 1)\n"
     ]
    }
   ],
   "source": [
    "x = x.reshape(-1, 1)\n",
    "\n",
    "print(x.shape)"
   ]
  },
  {
   "cell_type": "markdown",
   "metadata": {
    "heading_collapsed": true,
    "hidden": true
   },
   "source": [
    "## Python"
   ]
  },
  {
   "cell_type": "markdown",
   "metadata": {
    "hidden": true
   },
   "source": [
    "__Exercício__: tentar estimar as learning_rates de __w__ e __b__. Elas são diferentes por que nossos dados não estão na mesma escala!"
   ]
  },
  {
   "cell_type": "code",
   "execution_count": 6,
   "metadata": {
    "ExecuteTime": {
     "end_time": "2017-09-14T19:21:38.253347Z",
     "start_time": "2017-09-14T19:21:16.413722Z"
    },
    "hidden": true
   },
   "outputs": [
    {
     "name": "stdout",
     "output_type": "stream",
     "text": [
      "step 0: [ 7102.99051267]\n",
      "step 1000: [-9.29949769]\n",
      "step 2000: [-3.90248706]\n",
      "step 3000: [-1.63765891]\n",
      "step 4000: [-0.68723526]\n",
      "step 5000: [-0.28839479]\n",
      "step 6000: [-0.12102341]\n",
      "step 7000: [-0.05078686]\n",
      "step 8000: [-0.02131245]\n",
      "step 9000: [-0.00894366]\n",
      "step 10000: [-0.00375316]\n",
      "[ 1.36973035] [-157.86985547]\n"
     ]
    }
   ],
   "source": [
    "from random import random\n",
    "\n",
    "D = x.shape[1]\n",
    "w = 2*random() - 1 # [1, 1]\n",
    "b = 2*random() - 1 # [1, 1]\n",
    "\n",
    "for step in range(10001):\n",
    "    sum_error = 0\n",
    "    for x_i, y_i in zip(x, y):\n",
    "        y_pred = w*x_i + b\n",
    "        error = y_i - y_pred\n",
    "        w = w + 1e-7*error*x_i\n",
    "        b = b + 1e-2*error\n",
    "        sum_error += error\n",
    "        \n",
    "    if step%1000 == 0:\n",
    "        print('step {0}: {1}'.format(step, sum_error))\n",
    "\n",
    "print(w, b)"
   ]
  },
  {
   "cell_type": "markdown",
   "metadata": {
    "hidden": true
   },
   "source": [
    "## Numpy "
   ]
  },
  {
   "cell_type": "code",
   "execution_count": 7,
   "metadata": {
    "ExecuteTime": {
     "end_time": "2017-09-14T19:21:45.406815Z",
     "start_time": "2017-09-14T19:21:45.008532Z"
    },
    "hidden": true
   },
   "outputs": [
    {
     "name": "stdout",
     "output_type": "stream",
     "text": [
      "step 0: 6677.57228\n",
      "step 1000: -7.66042\n",
      "step 2000: -3.19858\n",
      "step 3000: -1.33555\n",
      "step 4000: -0.55766\n",
      "step 5000: -0.23285\n",
      "step 6000: -0.09722\n",
      "step 7000: -0.04060\n",
      "step 8000: -0.01695\n",
      "step 9000: -0.00708\n",
      "step 10000: -0.00296\n",
      "[[ 1.37129585]] -157.43835639\n"
     ]
    }
   ],
   "source": [
    "D = x.shape[1]\n",
    "w = 2*np.random.random((1, D))-1 # [1, 1]\n",
    "b = 2*np.random.random()-1       # [1, 1]\n",
    "\n",
    "for step in range(10001):\n",
    "    y_pred = np.dot(w, x.T) + b # [1,1]x[1,100] + [1,1] = [1,100]\n",
    "    error = y - y_pred # [1,100] + [100] = [1,100]\n",
    "    w = w + 1e-7*np.dot(error, x) # [1,1] + [1,100]x[100,1] = [1,1]\n",
    "    b = b + 1e-2*np.sum(error)\n",
    "    \n",
    "    if step%1000 == 0:\n",
    "        print('step {0}: {1:.5f}'.format(step, np.sum(error)))\n",
    "    \n",
    "print(w, b)"
   ]
  },
  {
   "cell_type": "markdown",
   "metadata": {
    "hidden": true
   },
   "source": [
    "### Numpy com Pré-processamento"
   ]
  },
  {
   "cell_type": "code",
   "execution_count": 8,
   "metadata": {
    "ExecuteTime": {
     "end_time": "2017-09-14T19:22:08.568244Z",
     "start_time": "2017-09-14T19:22:08.561239Z"
    },
    "collapsed": true,
    "hidden": true
   },
   "outputs": [],
   "source": [
    "minmax = MinMaxScaler(feature_range=(-1,1))\n",
    "x = minmax.fit_transform(x.astype(np.float64))"
   ]
  },
  {
   "cell_type": "code",
   "execution_count": 9,
   "metadata": {
    "ExecuteTime": {
     "end_time": "2017-09-14T19:22:33.763665Z",
     "start_time": "2017-09-14T19:22:33.556518Z"
    },
    "hidden": true
   },
   "outputs": [
    {
     "name": "stdout",
     "output_type": "stream",
     "text": [
      "step 0: 7411.29067\n",
      "step 1000: 0.00000\n",
      "step 2000: 0.00000\n",
      "step 3000: 0.00000\n",
      "step 4000: 0.00000\n",
      "step 5000: 0.00000\n",
      "[[ 33.60164767]] 74.9963628698\n"
     ]
    }
   ],
   "source": [
    "D = x.shape[1]\n",
    "w = 2*np.random.random((1, D))-1 # [1, 1]\n",
    "b = 2*np.random.random()-1       # [1, 1]\n",
    "\n",
    "learning_rate = 1e-3\n",
    "\n",
    "for step in range(5001):\n",
    "    y_pred = np.dot(w, x.T) + b # [1,1]x[1,100] + [1,1] = [1,100]\n",
    "    error = y - y_pred # [1,100] + [100] = [1,100]\n",
    "    w = w + learning_rate*np.dot(error, x) # [1,1] + [1,100]x[100,1] = [1,1]\n",
    "    b = b + learning_rate*np.sum(error)\n",
    "    \n",
    "    if step%1000 == 0:\n",
    "        print('step {0}: {1:.5f}'.format(step, np.sum(error)))\n",
    "    \n",
    "print(w, b)"
   ]
  },
  {
   "cell_type": "markdown",
   "metadata": {
    "heading_collapsed": true,
    "hidden": true
   },
   "source": [
    "## Keras "
   ]
  },
  {
   "cell_type": "code",
   "execution_count": 10,
   "metadata": {
    "ExecuteTime": {
     "end_time": "2017-09-14T19:23:05.747789Z",
     "start_time": "2017-09-14T19:23:05.467592Z"
    },
    "collapsed": true,
    "hidden": true
   },
   "outputs": [],
   "source": [
    "D = x.shape[1]\n",
    "\n",
    "model = Sequential()\n",
    "model.add(Dense(units=1, activation='linear', input_shape=(D,)))\n",
    "model.compile(loss='mse', optimizer='sgd')"
   ]
  },
  {
   "cell_type": "code",
   "execution_count": 11,
   "metadata": {
    "ExecuteTime": {
     "end_time": "2017-09-14T19:23:26.483043Z",
     "start_time": "2017-09-14T19:23:19.407011Z"
    },
    "hidden": true
   },
   "outputs": [
    {
     "name": "stdout",
     "output_type": "stream",
     "text": [
      "26.0829143524\n",
      "[[ 33.60112]] [ 74.99616241]\n"
     ]
    }
   ],
   "source": [
    "model.fit(x, y, batch_size=x.shape[0], epochs=5000, verbose=0)\n",
    "error = model.evaluate(x, y, batch_size=x.shape[0], verbose=0)\n",
    "w, b = model.get_weights()\n",
    "print(error)\n",
    "print(w,b)"
   ]
  },
  {
   "cell_type": "markdown",
   "metadata": {
    "hidden": true
   },
   "source": [
    "## TensorFlow "
   ]
  },
  {
   "cell_type": "code",
   "execution_count": 12,
   "metadata": {
    "ExecuteTime": {
     "end_time": "2017-09-14T19:23:48.441117Z",
     "start_time": "2017-09-14T19:23:48.195942Z"
    },
    "collapsed": true,
    "hidden": true
   },
   "outputs": [],
   "source": [
    "D = x.shape[1]\n",
    "\n",
    "learning_rate = 1e-3\n",
    "tf.reset_default_graph()\n",
    "\n",
    "graph = tf.Graph()\n",
    "with graph.as_default():\n",
    "    tf_x = tf.constant(x, dtype=tf.float64)\n",
    "    tf_y = tf.constant(y.reshape(1,-1), dtype=tf.float64)\n",
    "    \n",
    "    tf_w = tf.Variable(tf.random_uniform(shape=(1, D), minval=-1, maxval=1, dtype=tf.float64))\n",
    "    tf_b = tf.Variable(tf.random_uniform(shape=(1,), minval=-1, maxval=1, dtype=tf.float64))\n",
    "    \n",
    "    y_pred = tf.add(tf.matmul(tf_w, tf_x, transpose_b=True), tf_b)\n",
    "    error = tf.subtract(tf_y, y_pred)\n",
    "    loss = tf.reduce_sum(error)\n",
    "    \n",
    "    delta = tf.matmul(error, tf_x)\n",
    "    train_w = tf.assign(tf_w, tf.add(tf_w, learning_rate*delta))\n",
    "    train_b = tf.assign(tf_b, tf.add(tf_b, learning_rate*loss))"
   ]
  },
  {
   "cell_type": "code",
   "execution_count": 14,
   "metadata": {
    "ExecuteTime": {
     "end_time": "2017-09-14T19:23:52.608029Z",
     "start_time": "2017-09-14T19:23:50.845778Z"
    },
    "hidden": true
   },
   "outputs": [
    {
     "name": "stdout",
     "output_type": "stream",
     "text": [
      "step 0: 7428.321323704886\n",
      "step 1000: 1.0865579014307514e-07\n",
      "step 2000: 6.473044322774513e-12\n",
      "step 3000: 6.473044322774513e-12\n",
      "step 4000: 6.473044322774513e-12\n",
      "step 5000: 6.473044322774513e-12\n",
      "6.47304432277e-12\n",
      "[[ 33.60164767]] [ 74.99636287]\n"
     ]
    }
   ],
   "source": [
    "with tf.Session(graph=graph) as sess:\n",
    "    sess.run(tf.global_variables_initializer())\n",
    "    \n",
    "    for step in range(5001):\n",
    "        erro, _, _ = sess.run([loss, train_w, train_b])\n",
    "\n",
    "        if step%1000 == 0:\n",
    "            print('step {0}: {1}'.format(step, erro))\n",
    "    \n",
    "    print(erro)\n",
    "    print(tf_w.eval(), tf_b.eval())"
   ]
  },
  {
   "cell_type": "markdown",
   "metadata": {
    "hidden": true
   },
   "source": [
    "## Exercícios"
   ]
  },
  {
   "cell_type": "code",
   "execution_count": 2,
   "metadata": {
    "ExecuteTime": {
     "end_time": "2017-09-15T10:56:07.079178Z",
     "start_time": "2017-09-15T10:56:06.991114Z"
    },
    "hidden": true
   },
   "outputs": [
    {
     "name": "stdout",
     "output_type": "stream",
     "text": [
      "(25, 4)\n"
     ]
    },
    {
     "data": {
      "text/html": [
       "<div>\n",
       "<style>\n",
       "    .dataframe thead tr:only-child th {\n",
       "        text-align: right;\n",
       "    }\n",
       "\n",
       "    .dataframe thead th {\n",
       "        text-align: left;\n",
       "    }\n",
       "\n",
       "    .dataframe tbody tr th {\n",
       "        vertical-align: top;\n",
       "    }\n",
       "</style>\n",
       "<table border=\"1\" class=\"dataframe\">\n",
       "  <thead>\n",
       "    <tr style=\"text-align: right;\">\n",
       "      <th></th>\n",
       "      <th>prova1</th>\n",
       "      <th>prova2</th>\n",
       "      <th>prova3</th>\n",
       "      <th>final</th>\n",
       "    </tr>\n",
       "  </thead>\n",
       "  <tbody>\n",
       "    <tr>\n",
       "      <th>0</th>\n",
       "      <td>73</td>\n",
       "      <td>80</td>\n",
       "      <td>75</td>\n",
       "      <td>152</td>\n",
       "    </tr>\n",
       "    <tr>\n",
       "      <th>1</th>\n",
       "      <td>93</td>\n",
       "      <td>88</td>\n",
       "      <td>93</td>\n",
       "      <td>185</td>\n",
       "    </tr>\n",
       "    <tr>\n",
       "      <th>2</th>\n",
       "      <td>89</td>\n",
       "      <td>91</td>\n",
       "      <td>90</td>\n",
       "      <td>180</td>\n",
       "    </tr>\n",
       "    <tr>\n",
       "      <th>3</th>\n",
       "      <td>96</td>\n",
       "      <td>98</td>\n",
       "      <td>100</td>\n",
       "      <td>196</td>\n",
       "    </tr>\n",
       "    <tr>\n",
       "      <th>4</th>\n",
       "      <td>73</td>\n",
       "      <td>66</td>\n",
       "      <td>70</td>\n",
       "      <td>142</td>\n",
       "    </tr>\n",
       "    <tr>\n",
       "      <th>5</th>\n",
       "      <td>53</td>\n",
       "      <td>46</td>\n",
       "      <td>55</td>\n",
       "      <td>101</td>\n",
       "    </tr>\n",
       "    <tr>\n",
       "      <th>6</th>\n",
       "      <td>69</td>\n",
       "      <td>74</td>\n",
       "      <td>77</td>\n",
       "      <td>149</td>\n",
       "    </tr>\n",
       "    <tr>\n",
       "      <th>7</th>\n",
       "      <td>47</td>\n",
       "      <td>56</td>\n",
       "      <td>60</td>\n",
       "      <td>115</td>\n",
       "    </tr>\n",
       "    <tr>\n",
       "      <th>8</th>\n",
       "      <td>87</td>\n",
       "      <td>79</td>\n",
       "      <td>90</td>\n",
       "      <td>175</td>\n",
       "    </tr>\n",
       "    <tr>\n",
       "      <th>9</th>\n",
       "      <td>79</td>\n",
       "      <td>70</td>\n",
       "      <td>88</td>\n",
       "      <td>164</td>\n",
       "    </tr>\n",
       "  </tbody>\n",
       "</table>\n",
       "</div>"
      ],
      "text/plain": [
       "   prova1  prova2  prova3  final\n",
       "0      73      80      75    152\n",
       "1      93      88      93    185\n",
       "2      89      91      90    180\n",
       "3      96      98     100    196\n",
       "4      73      66      70    142\n",
       "5      53      46      55    101\n",
       "6      69      74      77    149\n",
       "7      47      56      60    115\n",
       "8      87      79      90    175\n",
       "9      79      70      88    164"
      ]
     },
     "execution_count": 2,
     "metadata": {},
     "output_type": "execute_result"
    }
   ],
   "source": [
    "df = pd.read_csv('data/notas.csv')\n",
    "\n",
    "print(df.shape)\n",
    "df.head(10)"
   ]
  },
  {
   "cell_type": "code",
   "execution_count": 16,
   "metadata": {
    "ExecuteTime": {
     "end_time": "2017-09-15T10:56:12.063093Z",
     "start_time": "2017-09-15T10:56:08.355060Z"
    },
    "hidden": true
   },
   "outputs": [
    {
     "data": {
      "text/plain": [
       "<seaborn.axisgrid.PairGrid at 0x24d5eb08da0>"
      ]
     },
     "execution_count": 16,
     "metadata": {},
     "output_type": "execute_result"
    },
    {
     "data": {
      "image/png": "[encoded data removed]",
      "text/plain": [
       "<matplotlib.figure.Figure at 0x24d5eb08e48>"
      ]
     },
     "metadata": {},
     "output_type": "display_data"
    }
   ],
   "source": [
    "sb.pairplot(df)"
   ]
  },
  {
   "cell_type": "code",
   "execution_count": 3,
   "metadata": {
    "ExecuteTime": {
     "end_time": "2017-09-15T10:56:14.202826Z",
     "start_time": "2017-09-15T10:56:14.189835Z"
    },
    "hidden": true
   },
   "outputs": [
    {
     "name": "stdout",
     "output_type": "stream",
     "text": [
      "(25, 3) (25,)\n"
     ]
    }
   ],
   "source": [
    "x = df[['prova1', 'prova2', 'prova3']].values\n",
    "y = df['final'].values\n",
    "\n",
    "print(x.shape, y.shape)"
   ]
  },
  {
   "cell_type": "code",
   "execution_count": 4,
   "metadata": {
    "ExecuteTime": {
     "end_time": "2017-09-15T10:56:15.149753Z",
     "start_time": "2017-09-15T10:56:15.143751Z"
    },
    "collapsed": true,
    "hidden": true
   },
   "outputs": [],
   "source": [
    "minmax = MinMaxScaler(feature_range=(-1,1))\n",
    "x = minmax.fit_transform(x.astype(np.float64))"
   ]
  },
  {
   "cell_type": "code",
   "execution_count": 19,
   "metadata": {
    "ExecuteTime": {
     "end_time": "2017-09-14T19:24:23.821886Z",
     "start_time": "2017-09-14T19:24:23.678784Z"
    },
    "hidden": true
   },
   "outputs": [
    {
     "name": "stdout",
     "output_type": "stream",
     "text": [
      "w: [  8.72048636  14.1054877   26.26749487] \n",
      "b: 150.65175754349872\n"
     ]
    }
   ],
   "source": [
    "from sklearn.linear_model import LinearRegression\n",
    "\n",
    "reg = LinearRegression()\n",
    "reg.fit(x,y)\n",
    "\n",
    "print(\"w: {} \\nb: {}\".format(reg.coef_, reg.intercept_))"
   ]
  },
  {
   "cell_type": "markdown",
   "metadata": {
    "heading_collapsed": true,
    "hidden": true
   },
   "source": [
    "### Python"
   ]
  },
  {
   "cell_type": "code",
   "execution_count": 20,
   "metadata": {
    "ExecuteTime": {
     "end_time": "2017-09-14T19:24:36.348182Z",
     "start_time": "2017-09-14T19:24:33.850407Z"
    },
    "hidden": true
   },
   "outputs": [
    {
     "name": "stdout",
     "output_type": "stream",
     "text": [
      "step 0: 3510.205893032287\n",
      "step 1000: 0.0020770104583363036\n",
      "step 2000: 1.0909482114129787e-05\n",
      "step 3000: 6.387864459611592e-08\n",
      "step 4000: 3.7346126191550866e-10\n",
      "step 5000: -1.2789769243681803e-12\n",
      "[8.7247829333104701, 14.139755265031456, 26.320668665317381]\n",
      "150.711215414\n"
     ]
    }
   ],
   "source": [
    "from random import random\n",
    "\n",
    "D = x.shape[1]\n",
    "w = [2*random() - 1 for i in range(D)] # [1, D]\n",
    "b = 2*random() - 1 # [1, 1]\n",
    "\n",
    "learning_rate = 1e-2\n",
    "\n",
    "for step in range(5001):\n",
    "    sum_error = 0\n",
    "    for x_i, y_i in zip(x, y):\n",
    "        y_pred = sum([w[d]*x_i[d] for d in range(D)]) + b\n",
    "        error = y_i - y_pred\n",
    "        w = [w[d] + learning_rate*error*x_i[d] for d in range(D)]\n",
    "        b = b + learning_rate*error\n",
    "        sum_error += error\n",
    "        \n",
    "    if step%1000 == 0:\n",
    "        print('step {0}: {1}'.format(step, sum_error))\n",
    "\n",
    "print(w, b, sep='\\n')"
   ]
  },
  {
   "cell_type": "markdown",
   "metadata": {
    "heading_collapsed": true,
    "hidden": true
   },
   "source": [
    "### Numpy"
   ]
  },
  {
   "cell_type": "code",
   "execution_count": 21,
   "metadata": {
    "ExecuteTime": {
     "end_time": "2017-09-14T19:24:55.296538Z",
     "start_time": "2017-09-14T19:24:54.907259Z"
    },
    "hidden": true
   },
   "outputs": [
    {
     "name": "stdout",
     "output_type": "stream",
     "text": [
      "step 0: 4045.445318416344\n",
      "step 1000: 0.002279332353751329\n",
      "step 2000: 1.253298671599623e-05\n",
      "step 3000: 7.614627861585177e-08\n",
      "step 4000: 4.6289017063827487e-10\n",
      "step 5000: 3.936406756110955e-12\n",
      "step 6000: 1.3784529073745944e-12\n",
      "step 7000: 1.1084466677857563e-12\n",
      "step 8000: 1.1084466677857563e-12\n",
      "step 9000: 1.1084466677857563e-12\n",
      "step 10000: 1.1084466677857563e-12\n",
      "[[  8.72048636  14.1054877   26.26749487]] 150.651757543\n"
     ]
    }
   ],
   "source": [
    "D = x.shape[1]\n",
    "w = 2*np.random.random((1, D))-1\n",
    "b = 2*np.random.random()-1       \n",
    "\n",
    "learning_rate = 1e-2\n",
    "\n",
    "for step in range(10001):\n",
    "    y_pred = np.dot(w, x.T) + b \n",
    "    error = y - y_pred\n",
    "    w = w + learning_rate*np.dot(error, x)\n",
    "    b = b + learning_rate*np.sum(error)\n",
    "    \n",
    "    if step%1000 == 0:\n",
    "        print('step {0}: {1}'.format(step, np.sum(error)))\n",
    "    \n",
    "print(w, b)"
   ]
  },
  {
   "cell_type": "markdown",
   "metadata": {
    "heading_collapsed": true,
    "hidden": true
   },
   "source": [
    "### Keras"
   ]
  },
  {
   "cell_type": "code",
   "execution_count": 5,
   "metadata": {
    "ExecuteTime": {
     "end_time": "2017-09-15T10:56:21.009469Z",
     "start_time": "2017-09-15T10:56:20.609863Z"
    },
    "collapsed": true,
    "hidden": true
   },
   "outputs": [],
   "source": [
    "D = x.shape[1]\n",
    "\n",
    "model2 = Sequential()\n",
    "model2.add(Dense(units=1, activation='linear', input_shape=(D,)))\n",
    "model2.compile(loss='mse', optimizer='sgd')"
   ]
  },
  {
   "cell_type": "code",
   "execution_count": 6,
   "metadata": {
    "ExecuteTime": {
     "end_time": "2017-09-15T10:56:27.575800Z",
     "start_time": "2017-09-15T10:56:22.012341Z"
    },
    "hidden": true
   },
   "outputs": [
    {
     "name": "stdout",
     "output_type": "stream",
     "text": [
      "5.73915672302\n",
      "[[  8.9282093 ]\n",
      " [ 13.98310184]\n",
      " [ 26.17757225]] [ 150.63856506]\n"
     ]
    }
   ],
   "source": [
    "model2.fit(x, y, batch_size=x.shape[0], epochs=10000, verbose=0)\n",
    "error = model2.evaluate(x, y, batch_size=x.shape[0], verbose=0)\n",
    "w, b = model2.get_weights()\n",
    "print(error)\n",
    "print(w,b)"
   ]
  },
  {
   "cell_type": "markdown",
   "metadata": {
    "heading_collapsed": true,
    "hidden": true
   },
   "source": [
    "### Tensorflow"
   ]
  },
  {
   "cell_type": "code",
   "execution_count": 8,
   "metadata": {
    "ExecuteTime": {
     "end_time": "2017-09-14T19:23:48.441117Z",
     "start_time": "2017-09-14T19:23:48.195942Z"
    },
    "collapsed": true,
    "hidden": true
   },
   "outputs": [],
   "source": [
    "D = x.shape[1]\n",
    "\n",
    "learning_rate = 1e-3\n",
    "tf.reset_default_graph()\n",
    "\n",
    "graph = tf.Graph()\n",
    "with graph.as_default():\n",
    "    tf_x = tf.constant(x, dtype=tf.float64)\n",
    "    tf_y = tf.constant(y.reshape(1,-1), dtype=tf.float64)\n",
    "    \n",
    "    tf_w = tf.Variable(tf.random_uniform(shape=(1, D), minval=-1, maxval=1, dtype=tf.float64))\n",
    "    tf_b = tf.Variable(tf.random_uniform(shape=(1,), minval=-1, maxval=1, dtype=tf.float64))\n",
    "    \n",
    "    y_pred = tf.add(tf.matmul(tf_w, tf_x, transpose_b=True), tf_b)\n",
    "    error = tf.subtract(tf_y, y_pred)\n",
    "    loss = tf.reduce_sum(error)\n",
    "    \n",
    "    delta = tf.matmul(error, tf_x)\n",
    "    train_w = tf.assign(tf_w, tf.add(tf_w, learning_rate*delta))\n",
    "    train_b = tf.assign(tf_b, tf.add(tf_b, learning_rate*loss))"
   ]
  },
  {
   "cell_type": "code",
   "execution_count": 9,
   "metadata": {
    "ExecuteTime": {
     "end_time": "2017-09-14T19:23:52.608029Z",
     "start_time": "2017-09-14T19:23:50.845778Z"
    },
    "hidden": true
   },
   "outputs": [
    {
     "name": "stdout",
     "output_type": "stream",
     "text": [
      "step 0: 4077.401263208949\n",
      "step 1000: 1.1554022299283133\n",
      "step 2000: 0.49800290728801144\n",
      "step 3000: 0.22230518752719775\n",
      "step 4000: 0.10316104266679815\n",
      "step 5000: 0.049962238336433984\n",
      "step 6000: 0.02526798903323879\n",
      "step 7000: 0.01330451956869183\n",
      "step 8000: 0.00725226685736402\n",
      "step 9000: 0.004064676015119062\n",
      "step 10000: 0.0023267390508436847\n",
      "Tensor(\"Sub:0\", shape=(1, 25), dtype=float64)\n",
      "[[  8.79504995  14.05906793  26.23745078]] [ 150.64738627]\n"
     ]
    }
   ],
   "source": [
    "with tf.Session(graph=graph) as sess:\n",
    "    sess.run(tf.global_variables_initializer())\n",
    "    \n",
    "    for step in range(10001):\n",
    "        erro, _, _ = sess.run([loss, train_w, train_b])\n",
    "\n",
    "        if step%1000 == 0:\n",
    "            print('step {0}: {1}'.format(step, erro))\n",
    "    \n",
    "    print(error)\n",
    "    print(tf_w.eval(), tf_b.eval())"
   ]
  },
  {
   "cell_type": "markdown",
   "metadata": {},
   "source": [
    "# Classificação"
   ]
  },
  {
   "cell_type": "markdown",
   "metadata": {
    "collapsed": true
   },
   "source": [
    "Para transformar o Perceptron em um classificador binário, temos que fazer uma pequena modificação no cálculo da saída:\n",
    "\n",
    "$$y_{pred} = \\begin{cases}1 & se \\ wx+b > 0\\\\0 & caso \\ contr\\acute ario\\end{cases}$$\n",
    "\n",
    "Apesar dessa modificação, __a fórmula de atualização dos pesos não sofre nenhuma alteração__. \n",
    "\n",
    "Vamos, então, implementar nosso perceptron para classificação em Python, Numpy, Keras e TensorFlow:"
   ]
  },
  {
   "cell_type": "markdown",
   "metadata": {},
   "source": [
    "## Porta AND/OR"
   ]
  },
  {
   "cell_type": "code",
   "execution_count": 4,
   "metadata": {
    "ExecuteTime": {
     "end_time": "2017-09-15T11:11:37.370366Z",
     "start_time": "2017-09-15T11:11:37.359356Z"
    }
   },
   "outputs": [
    {
     "name": "stdout",
     "output_type": "stream",
     "text": [
      "(4, 2) (4,)\n"
     ]
    }
   ],
   "source": [
    "x = np.array([[0, 0], [0, 1], [1, 0], [1, 1]])\n",
    "y = np.array([0, 1, 1, 1]) # porta OR\n",
    "#y = np.array([0, 0, 0, 1]) # porta AND\n",
    "\n",
    "print(x.shape, y.shape)"
   ]
  },
  {
   "cell_type": "markdown",
   "metadata": {
    "heading_collapsed": true
   },
   "source": [
    "### Python"
   ]
  },
  {
   "cell_type": "code",
   "execution_count": 5,
   "metadata": {
    "ExecuteTime": {
     "end_time": "2017-09-15T11:21:18.798586Z",
     "start_time": "2017-09-15T11:21:18.667487Z"
    },
    "hidden": true
   },
   "outputs": [
    {
     "name": "stdout",
     "output_type": "stream",
     "text": [
      "step 0: -1\n",
      "step 10: -1\n",
      "step 20: -1\n",
      "step 30: -1\n",
      "step 40: -1\n",
      "step 50: -1\n",
      "step 60: -1\n",
      "step 70: -1\n",
      "step 80: 0\n",
      "step 90: 0\n",
      "step 100: 0\n",
      "w: [0.98354165847357877, 0.85344622969498385] \n",
      "b: -0.006907375281394028\n",
      "y_pred: [-0.00690738  0.84653885  0.97663428  1.83008051]\n"
     ]
    }
   ],
   "source": [
    "from random import random\n",
    "\n",
    "D = x.shape[1]\n",
    "w = [2*random() - 1 for i in range(D)] # [1, D]\n",
    "b = 2*random() - 1 # [1, 1]\n",
    "\n",
    "learning_rate = 1e-2\n",
    "\n",
    "for step in range(101):\n",
    "    sum_error = 0\n",
    "    for x_i, y_i in zip(x, y):\n",
    "        y_pred = sum([w[d]*x_i[d] for d in range(D)]) + b\n",
    "        y_pred = 1 if y_pred > 0 else 0\n",
    "        error = y_i - y_pred\n",
    "        w = [w[d] + learning_rate*error*x_i[d] for d in range(D)]\n",
    "        b = b + learning_rate*error\n",
    "        sum_error += error\n",
    "        \n",
    "    if step%10 == 0:\n",
    "        print('step {0}: {1}'.format(step, sum_error))\n",
    "\n",
    "print('w: {} \\nb: {}'.format(w, b))\n",
    "print('y_pred: {0}'.format(np.dot(w, x.T)+b))"
   ]
  },
  {
   "cell_type": "markdown",
   "metadata": {
    "heading_collapsed": true
   },
   "source": [
    "### Numpy"
   ]
  },
  {
   "cell_type": "code",
   "execution_count": 6,
   "metadata": {
    "ExecuteTime": {
     "end_time": "2017-09-15T12:21:02.603975Z",
     "start_time": "2017-09-15T12:21:02.555936Z"
    },
    "hidden": true
   },
   "outputs": [
    {
     "name": "stdout",
     "output_type": "stream",
     "text": [
      "step 0: 0\n",
      "step 10: 0\n",
      "step 20: 0\n",
      "step 30: 0\n",
      "step 40: 0\n",
      "step 50: 0\n",
      "step 60: 0\n",
      "step 70: 0\n",
      "step 80: 0\n",
      "step 90: 0\n",
      "w: [[ 0.00752718  0.76651356]] \n",
      "b: -0.006466382863439328\n",
      "y_pred: [[-0.00646638  0.76004717  0.0010608   0.76757436]]\n"
     ]
    }
   ],
   "source": [
    "D = x.shape[1]\n",
    "w = 2*np.random.random((1, D))-1\n",
    "b = 2*np.random.random()-1       \n",
    "\n",
    "learning_rate = 1e-2\n",
    "\n",
    "for step in range(100):\n",
    "    y_pred = np.dot(w, x.T) + b \n",
    "    y_pred = np.where(y_pred > 0, 1, 0)\n",
    "    error = y - y_pred\n",
    "    w = w + learning_rate*np.dot(error, x)\n",
    "    b = b + learning_rate*np.sum(error)\n",
    "    \n",
    "    if step%10 == 0:\n",
    "        print('step {0}: {1}'.format(step, np.sum(error)))\n",
    "    \n",
    "print('w: {} \\nb: {}'.format(w, b))\n",
    "print('y_pred: {0}'.format(np.dot(w, x.T)+b))"
   ]
  },
  {
   "cell_type": "markdown",
   "metadata": {},
   "source": [
    "### Keras"
   ]
  },
  {
   "cell_type": "code",
   "execution_count": 7,
   "metadata": {
    "ExecuteTime": {
     "end_time": "2017-09-15T12:20:11.500456Z",
     "start_time": "2017-09-15T12:20:11.371371Z"
    },
    "collapsed": true
   },
   "outputs": [],
   "source": [
    "D = x.shape[1]\n",
    "\n",
    "model3 = Sequential()\n",
    "model3.add(Dense(units=1, activation='linear', input_dim=D))\n",
    "model3.compile(loss='categorical_hinge', optimizer='sgd')"
   ]
  },
  {
   "cell_type": "code",
   "execution_count": 9,
   "metadata": {
    "ExecuteTime": {
     "end_time": "2017-09-15T12:22:10.431816Z",
     "start_time": "2017-09-15T12:22:10.254710Z"
    }
   },
   "outputs": [
    {
     "name": "stdout",
     "output_type": "stream",
     "text": [
      "0.106250137091\n",
      "[[ 1.57952213]\n",
      " [ 1.57821727]] [-0.57499945]\n",
      "[[-0.57499945]\n",
      " [ 1.00321782]\n",
      " [ 1.00452268]\n",
      " [ 2.58273983]]\n"
     ]
    }
   ],
   "source": [
    "model3.fit(x, y, epochs=1000, batch_size=x.shape[0], verbose=0)\n",
    "y_pred = model3.predict(x, verbose=0)\n",
    "error = model3.evaluate(x, y, batch_size=x.shape[0], verbose=0)\n",
    "w, b = model3.get_weights()\n",
    "print(error)\n",
    "print(w,b)\n",
    "print(y_pred)"
   ]
  },
  {
   "cell_type": "markdown",
   "metadata": {},
   "source": [
    "### TensorFlow"
   ]
  },
  {
   "cell_type": "code",
   "execution_count": 10,
   "metadata": {
    "ExecuteTime": {
     "end_time": "2017-09-15T18:03:02.646993Z",
     "start_time": "2017-09-15T18:03:02.422830Z"
    },
    "collapsed": true
   },
   "outputs": [],
   "source": [
    "D = x.shape[1]\n",
    "\n",
    "learning_rate = 1e-2\n",
    "\n",
    "tf.reset_default_graph()\n",
    "\n",
    "graph = tf.Graph()\n",
    "with graph.as_default():\n",
    "    tf_x = tf.constant(x, dtype=tf.float64)\n",
    "    tf_y = tf.constant(y.reshape(1,-1), dtype=tf.float64)\n",
    "    \n",
    "    tf_w = tf.Variable(tf.random_uniform(shape=(1, D), minval=-1, maxval=1, dtype=tf.float64))\n",
    "    tf_b = tf.Variable(tf.random_uniform(shape=(1,), minval=-1, maxval=1, dtype=tf.float64))\n",
    "    \n",
    "    y_pred = tf.add(tf.matmul(tf_w, tf_x, transpose_b=True), tf_b)\n",
    "    y_pred_bin = tf.where(y_pred > 0, tf.ones_like(y_pred), tf.zeros_like(y_pred))\n",
    "    error = tf.subtract(tf_y, y_pred_bin)\n",
    "    \n",
    "    loss = tf.reduce_sum(error)\n",
    "    \n",
    "    delta = tf.matmul(error, tf_x)\n",
    "    train_w = tf.assign(tf_w, tf.add(tf_w, learning_rate*delta))\n",
    "    train_b = tf.assign(tf_b, tf.add(tf_b, learning_rate*loss))"
   ]
  },
  {
   "cell_type": "code",
   "execution_count": 11,
   "metadata": {
    "ExecuteTime": {
     "end_time": "2017-09-15T18:03:15.052005Z",
     "start_time": "2017-09-15T18:03:14.842852Z"
    }
   },
   "outputs": [
    {
     "name": "stdout",
     "output_type": "stream",
     "text": [
      "step 0: -1.0\n",
      "step 10: 0.0\n",
      "step 20: 0.0\n",
      "step 30: 0.0\n",
      "step 40: 0.0\n",
      "step 50: 0.0\n",
      "step 60: 0.0\n",
      "step 70: 0.0\n",
      "step 80: 0.0\n",
      "step 90: 0.0\n",
      "step 100: 0.0\n",
      "0.0\n",
      "[[ 0.38081902  0.17708877]] [-0.00664045]\n",
      "[[ 0.  1.  1.  1.]]\n"
     ]
    }
   ],
   "source": [
    "with tf.Session(graph=graph) as sess:\n",
    "    sess.run(tf.global_variables_initializer())\n",
    "    \n",
    "    for step in range(101):\n",
    "        erro, _, _ = sess.run([loss, train_w, train_b])\n",
    "        \n",
    "        if step%10 == 0:\n",
    "            print('step {0}: {1}'.format(step, erro))\n",
    "    \n",
    "    print(erro)\n",
    "    print(tf_w.eval(), tf_b.eval())\n",
    "    print(y_pred_bin.eval())"
   ]
  },
  {
   "cell_type": "markdown",
   "metadata": {
    "collapsed": true
   },
   "source": [
    "## Separação Linear"
   ]
  },
  {
   "cell_type": "code",
   "execution_count": 3,
   "metadata": {},
   "outputs": [
    {
     "data": {
      "text/plain": [
       "<matplotlib.collections.PathCollection at 0x127c13c50>"
      ]
     },
     "execution_count": 3,
     "metadata": {},
     "output_type": "execute_result"
    },
    {
     "data": {
      "image/png": "[encoded data removed]",
      "text/plain": [
       "<matplotlib.figure.Figure at 0x110409978>"
      ]
     },
     "metadata": {},
     "output_type": "display_data"
    }
   ],
   "source": [
    "x, y = make_blobs(n_samples=100, n_features=2, centers=2, random_state=1234)\n",
    "\n",
    "plt.scatter(x[:,0], x[:,1], c=y, cmap='bwr')"
   ]
  },
  {
   "cell_type": "code",
   "execution_count": 4,
   "metadata": {
    "collapsed": true
   },
   "outputs": [],
   "source": [
    "def plot_linear_classifier(x, y, w, b):\n",
    "    x1_min, x1_max = x[:,0].min(), x[:,0].max()\n",
    "    x2_min, x2_max = x[:,1].min(), x[:,1].max()\n",
    "\n",
    "    x1, x2 = np.meshgrid(np.linspace(x1_min-1, x1_max+1,100), np.linspace(x2_min-1, x2_max+1, 100))\n",
    "    x_mesh = np.array([x1.ravel(), x2.ravel()]).T\n",
    "\n",
    "    plt.scatter(x[:,0], x[:,1], c=y, cmap='bwr')\n",
    "\n",
    "    y_mesh = np.dot(w, x_mesh.T) + b\n",
    "    y_mesh = np.where(y_mesh <= 0, 0, 1)\n",
    "\n",
    "    plt.contourf(x1, x2, y_mesh.reshape(x1.shape), cmap='bwr', alpha=0.5)\n",
    "    plt.xlim(x1_min-1, x1_max+1)\n",
    "    plt.ylim(x2_min-1, x2_max+1)"
   ]
  },
  {
   "cell_type": "markdown",
   "metadata": {},
   "source": [
    "### Python"
   ]
  },
  {
   "cell_type": "code",
   "execution_count": 69,
   "metadata": {},
   "outputs": [
    {
     "name": "stdout",
     "output_type": "stream",
     "text": [
      "step 0: 13\n",
      "step 5: 0\n",
      "step 10: 0\n",
      "step 15: 0\n",
      "step 20: 0\n",
      "step 25: 0\n",
      "step 30: 0\n",
      "step 35: 0\n",
      "step 40: 0\n",
      "step 45: 0\n",
      "w: [0.088026107628614417, 0.077898662381350944] \n",
      "b: 0.07061026774876557\n"
     ]
    }
   ],
   "source": [
    "from random import random\n",
    "\n",
    "D = x.shape[1]\n",
    "w = [2*random() - 1 for i in range(D)] # [1, D]\n",
    "b = 2*random() - 1 # [1, 1]\n",
    "\n",
    "learning_rate = 1e-2\n",
    "\n",
    "for step in range(50):\n",
    "    sum_error = 0\n",
    "    for x_i, y_i in zip(x, y):\n",
    "        y_pred = sum([w[d]*x_i[d] for d in range(D)]) + b\n",
    "        y_pred = 1 if y_pred > 0 else 0\n",
    "        error = y_i - y_pred\n",
    "        w = [w[d] + learning_rate*error*x_i[d] for d in range(D)]\n",
    "        b = b + learning_rate*error\n",
    "        sum_error += error\n",
    "        \n",
    "    if step%5 == 0:\n",
    "        print('step {0}: {1}'.format(step, sum_error))\n",
    "\n",
    "print('w: {} \\nb: {}'.format(w, b))"
   ]
  },
  {
   "cell_type": "code",
   "execution_count": 70,
   "metadata": {},
   "outputs": [
    {
     "data": {
      "image/png": "[encoded data removed]",
      "text/plain": [
       "<matplotlib.figure.Figure at 0x10a73ac88>"
      ]
     },
     "metadata": {},
     "output_type": "display_data"
    }
   ],
   "source": [
    "plot_linear_classifier(x, y, w, b)"
   ]
  },
  {
   "cell_type": "markdown",
   "metadata": {},
   "source": [
    "### Numpy"
   ]
  },
  {
   "cell_type": "code",
   "execution_count": 55,
   "metadata": {},
   "outputs": [
    {
     "name": "stdout",
     "output_type": "stream",
     "text": [
      "step 0: -24\n",
      "step 5: -1\n",
      "step 10: 0\n",
      "step 15: 0\n",
      "step 20: 0\n",
      "step 25: 0\n",
      "step 30: 0\n",
      "step 35: 0\n",
      "step 40: 0\n",
      "step 45: 0\n",
      "w: [[ 2.0910098   2.14562251]] \n",
      "b: 0.442612812912235\n"
     ]
    }
   ],
   "source": [
    "D = x.shape[1]\n",
    "w = 2*np.random.random((1, D))-1\n",
    "b = 2*np.random.random()-1       \n",
    "\n",
    "learning_rate = 1e-2\n",
    "\n",
    "for step in range(50):\n",
    "    y_pred = np.dot(w, x.T) + b \n",
    "    y_pred = np.where(y_pred > 0, 1, 0)\n",
    "    error = y - y_pred\n",
    "    w = w + learning_rate*np.dot(error, x)\n",
    "    b = b + learning_rate*np.sum(error)\n",
    "    \n",
    "    if step%5 == 0:\n",
    "        print('step {0}: {1}'.format(step, np.sum(error)))\n",
    "    \n",
    "print('w: {} \\nb: {}'.format(w, b))"
   ]
  },
  {
   "cell_type": "code",
   "execution_count": 54,
   "metadata": {},
   "outputs": [
    {
     "data": {
      "image/png": "[encoded data removed]",
      "text/plain": [
       "<matplotlib.figure.Figure at 0x11c94ecf8>"
      ]
     },
     "metadata": {},
     "output_type": "display_data"
    }
   ],
   "source": [
    "plot_linear_classifier(x, y, w, b)"
   ]
  },
  {
   "cell_type": "markdown",
   "metadata": {},
   "source": [
    "### Keras"
   ]
  },
  {
   "cell_type": "code",
   "execution_count": 5,
   "metadata": {
    "ExecuteTime": {
     "end_time": "2017-09-15T12:20:11.500456Z",
     "start_time": "2017-09-15T12:20:11.371371Z"
    }
   },
   "outputs": [],
   "source": [
    "D = x.shape[1]\n",
    "\n",
    "model4 = Sequential()\n",
    "model4.add(Dense(units=1, activation='linear', input_dim=D))\n",
    "model4.compile(loss='categorical_hinge', optimizer='sgd')"
   ]
  },
  {
   "cell_type": "code",
   "execution_count": 12,
   "metadata": {},
   "outputs": [
    {
     "name": "stdout",
     "output_type": "stream",
     "text": [
      "0.00523133995011\n",
      "[[ 0.99661392]\n",
      " [ 0.9529497 ]] [-0.0033]\n"
     ]
    },
    {
     "data": {
      "image/png": "[encoded data removed]",
      "text/plain": [
       "<matplotlib.figure.Figure at 0x12828edd8>"
      ]
     },
     "metadata": {},
     "output_type": "display_data"
    }
   ],
   "source": [
    "model4.fit(x, y, epochs=100, batch_size=x.shape[0], verbose=0)\n",
    "y_pred = model4.predict(x, verbose=0)\n",
    "error = model4.evaluate(x, y, batch_size=x.shape[0], verbose=0)\n",
    "w, b = model4.get_weights()\n",
    "print(error)\n",
    "print(w,b)\n",
    "\n",
    "plot_linear_classifier(x, y, w.reshape(1, 2), b)"
   ]
  },
  {
   "cell_type": "markdown",
   "metadata": {},
   "source": [
    "### Tensorflow"
   ]
  },
  {
   "cell_type": "code",
   "execution_count": 60,
   "metadata": {
    "ExecuteTime": {
     "end_time": "2017-09-15T18:03:02.646993Z",
     "start_time": "2017-09-15T18:03:02.422830Z"
    },
    "collapsed": true
   },
   "outputs": [],
   "source": [
    "D = x.shape[1]\n",
    "\n",
    "learning_rate = 1e-2\n",
    "\n",
    "tf.reset_default_graph()\n",
    "\n",
    "graph = tf.Graph()\n",
    "with graph.as_default():\n",
    "    tf_x = tf.constant(x, dtype=tf.float64)\n",
    "    tf_y = tf.constant(y.reshape(1,-1), dtype=tf.float64)\n",
    "    \n",
    "    tf_w = tf.Variable(tf.random_uniform(shape=(1, D), minval=-1, maxval=1, dtype=tf.float64))\n",
    "    tf_b = tf.Variable(tf.random_uniform(shape=(1,), minval=-1, maxval=1, dtype=tf.float64))\n",
    "    \n",
    "    y_pred = tf.add(tf.matmul(tf_w, tf_x, transpose_b=True), tf_b)\n",
    "    y_pred_bin = tf.where(y_pred > 0, tf.ones_like(y_pred), tf.zeros_like(y_pred))\n",
    "    error = tf.subtract(tf_y, y_pred_bin)\n",
    "    \n",
    "    loss = tf.reduce_sum(error)\n",
    "    \n",
    "    delta = tf.matmul(error, tf_x)\n",
    "    train_w = tf.assign(tf_w, tf.add(tf_w, learning_rate*delta))\n",
    "    train_b = tf.assign(tf_b, tf.add(tf_b, learning_rate*loss))"
   ]
  },
  {
   "cell_type": "code",
   "execution_count": 64,
   "metadata": {
    "ExecuteTime": {
     "end_time": "2017-09-15T18:03:15.052005Z",
     "start_time": "2017-09-15T18:03:14.842852Z"
    }
   },
   "outputs": [
    {
     "name": "stdout",
     "output_type": "stream",
     "text": [
      "step 0: 1.0\n",
      "step 5: 0.0\n",
      "step 10: 0.0\n",
      "step 15: 0.0\n",
      "step 20: 0.0\n",
      "step 25: 0.0\n",
      "step 30: 0.0\n",
      "step 35: 0.0\n",
      "step 40: 0.0\n",
      "step 45: 0.0\n",
      "step 50: 0.0\n",
      "0.0\n",
      "[[ 0.50264001  0.62313873]] [-0.87939257]\n"
     ]
    },
    {
     "data": {
      "image/png": "[encoded data removed]",
      "text/plain": [
       "<matplotlib.figure.Figure at 0x10a64add8>"
      ]
     },
     "metadata": {},
     "output_type": "display_data"
    }
   ],
   "source": [
    "with tf.Session(graph=graph) as sess:\n",
    "    sess.run(tf.global_variables_initializer())\n",
    "    \n",
    "    for step in range(51):\n",
    "        erro, _, _ = sess.run([loss, train_w, train_b])\n",
    "        \n",
    "        if step%5 == 0:\n",
    "            print('step {0}: {1}'.format(step, erro))\n",
    "    \n",
    "    print(erro)\n",
    "    print(tf_w.eval(), tf_b.eval())\n",
    "    plot_linear_classifier(x, y, tf_w.eval(), tf_b.eval())"
   ]
  },
  {
   "cell_type": "code",
   "execution_count": null,
   "metadata": {
    "collapsed": true
   },
   "outputs": [],
   "source": []
  }
 ],
 "metadata": {
  "kernelspec": {
   "display_name": "Python 3",
   "language": "python",
   "name": "python3"
  },
  "language_info": {
   "codemirror_mode": {
    "name": "ipython",
    "version": 3
   },
   "file_extension": ".py",
   "mimetype": "text/x-python",
   "name": "python",
   "nbconvert_exporter": "python",
   "pygments_lexer": "ipython3",
   "version": "3.6.2"
  }
 },
 "nbformat": 4,
 "nbformat_minor": 2
}
